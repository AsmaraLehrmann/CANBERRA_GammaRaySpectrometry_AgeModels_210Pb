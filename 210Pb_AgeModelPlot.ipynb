{
 "cells": [
  {
   "cell_type": "markdown",
   "id": "1d518608",
   "metadata": {},
   "source": [
    "# Welcome to the 210Pb age model script!\n",
    "\n",
    "### <div style=\"text-align: right\"> Last modified by A.A. Lehrmann 15 April 2025 </div>\n",
    "\n",
    "\n",
    "### The script below will extract radioisotope data from Canberra PDFs, run the age model (from the Wellner Lab Group excel model (Appleby, 2001; Boldt et al., 2013), and plot the age model\n",
    "\n",
    "### Important instructions before you begin:\n",
    "\n",
    "    1. NEVER edit raw data. Do not delete Canberra PDFs. Do not remove sediment weights from original lab notebook excel sheet.\n",
    "\n",
    "    2. Make an /CORE_AgeModelOutput/ folder to put all of your script's outputs\n",
    "\n",
    "    3. When copying folder paths, make sure to remove quotation marks\n",
    "\n",
    "    4. Always add the extension .csv to your output files"
   ]
  },
  {
   "cell_type": "markdown",
   "id": "8a513b53",
   "metadata": {},
   "source": [
    "## First, extract radioisotope data from Canberra PDFs\n",
    "Run cell (press triangle that says run) and follow instructions."
   ]
  },
  {
   "cell_type": "code",
   "execution_count": null,
   "id": "2496c872",
   "metadata": {},
   "outputs": [],
   "source": [
    "from canberra_functions import extract_pdf_values, process_activity"
   ]
  },
  {
   "cell_type": "code",
   "execution_count": null,
   "id": "47a50848",
   "metadata": {},
   "outputs": [],
   "source": [
    "#User inputs\n",
    "folder_path = input(\"Enter the folder path of Canberra PDFs: \")\n",
    "output_csv_path = input(\"Enter the output CSV file path (e.g. CORE_CanberraData_DATE.csv): \")"
   ]
  },
  {
   "cell_type": "code",
   "execution_count": null,
   "id": "fead0af3",
   "metadata": {},
   "outputs": [],
   "source": [
    "#Execute functions\n",
    "extract_pdf_values(folder_path, output_csv_path)"
   ]
  },
  {
   "cell_type": "markdown",
   "id": "f7568417",
   "metadata": {},
   "source": [
    "### Make note of which samples are missing data! This will be important when we plot!"
   ]
  },
  {
   "cell_type": "markdown",
   "id": "6d5ac233",
   "metadata": {},
   "source": [
    "# Open the output .csv file\n",
    "\n",
    "Check to make sure all radioisotope data translated correctly. \n",
    "\n",
    "# Create two new columns\n",
    "- ptsrc_pb210\n",
    "- ptsrc_pb210 error\n",
    "\n",
    "# Move Point Source Lead 210 data to ptsrc_pb210 and uncertainty to ptsrc_pb210 error of associated samples\n",
    "\n",
    "# CHECK the following\n",
    "\n",
    "Radioisotope data should have the following headings\n",
    "\n",
    " ### | File    | Pb-210   | Pb-210 error    | Bi-214  | Bi-214 error   | Pb-214    |Pb-214 error |  ptsrc_pb210    | ptsrc_pb210 error  | \n"
   ]
  },
  {
   "cell_type": "markdown",
   "id": "8a8f82fd",
   "metadata": {},
   "source": [
    "# Create a new .csv file from lab notebook for the sample weight data\n",
    "\n",
    "Sample weights should have the following headings: \n",
    "\n",
    "### | Core    | Top of interval (cm)   | Center point of interval    |Base of interval (cm)  | sediment weight (g)    | \n",
    "\n",
    "\n"
   ]
  },
  {
   "cell_type": "markdown",
   "id": "391b5ac2",
   "metadata": {},
   "source": [
    "Run cell below"
   ]
  },
  {
   "cell_type": "code",
   "execution_count": null,
   "id": "776436fa",
   "metadata": {},
   "outputs": [],
   "source": [
    "import pandas as pd\n",
    "import numpy as np\n",
    "import re\n",
    "\n",
    "# Prompt user for file paths and output file name\n",
    "csv1_path = input(\"Enter the path to the sample weight CSV file (e.g., /path/weights.csv): \")\n",
    "csv1_path = input(\"Enter the path to the Canberra data CSV file (e.g., /path/canberra.csv): \")\n",
    "# Prompt the user for the year of core\n",
    "year_of_core = int(input(\"Enter the year of core (e.g., 2023): \"))\n",
    "output_file_name = input(\"Enter the path for the output CSV file (e.g., CORE_AgeModel_DATE.csv): \")\n"
   ]
  },
  {
   "cell_type": "code",
   "execution_count": null,
   "id": "03e60839",
   "metadata": {},
   "outputs": [],
   "source": [
    "process_activity(csv1_path, csv1_path, output_file_name, year_of_core)"
   ]
  },
  {
   "cell_type": "markdown",
   "id": "2d2d497d",
   "metadata": {},
   "source": [
    "# Check the output data. Make sure data isnt *fishy*\n",
    "Look at the column labeled 'Age'. Are the ages within the realm of possibility? If not, ask Asmara for help!\n",
    "\n",
    "# Now plot it!\n",
    "Run cell below "
   ]
  },
  {
   "cell_type": "code",
   "execution_count": null,
   "id": "80727060",
   "metadata": {},
   "outputs": [],
   "source": [
    "import matplotlib.pyplot as plt\n",
    "import matplotlib.colors as mcolors\n",
    "import numpy as np\n",
    "import pandas as pd\n",
    "\n",
    "# Ask for the age model file to be plotted (CSV format)\n",
    "age_model_file = input(\"Enter the full path to the age model file to plot (e.g., /path/to/age_model.csv): \")\n",
    "data = pd.read_csv(age_model_file)\n"
   ]
  },
  {
   "cell_type": "code",
   "execution_count": null,
   "id": "e3938c61",
   "metadata": {},
   "outputs": [],
   "source": [
    "# Get the core name for the plot title\n",
    "core_name = input(\"Enter the core name for the title: \")\n",
    "\n",
    "# Ask for depths to label \"calendar years pre year of core\"\n",
    "depths_to_label_input = input(\"Enter the depths (comma-separated) where 'calendar years pre year of core' should be labeled (or type 'all' to label all intervals): \")\n",
    "\n",
    "if depths_to_label_input.lower() == 'all':\n",
    "    depths_to_label = data['Center point of interval'].tolist()  # Label all intervals\n",
    "else:\n",
    "    depths_to_label = [float(depth.strip()) for depth in depths_to_label_input.split(\",\")]"
   ]
  },
  {
   "cell_type": "code",
   "execution_count": null,
   "id": "282ccf1b",
   "metadata": {},
   "outputs": [],
   "source": [
    "# Ask if any intervals have undetectable radioisotope amounts\n",
    "missing_data_input = input(\"Are there any intervals with undetectable amounts of radioisotopes? (yes/no): \").strip().lower()\n",
    "\n",
    "if missing_data_input == 'yes':\n",
    "    missing_depths_input = input(\"Enter the depths (comma-separated) with undetectable radioisotopes: \")\n",
    "    missing_depths = [float(depth.strip()) for depth in missing_depths_input.split(\",\")]\n",
    "else:\n",
    "    missing_depths = []\n"
   ]
  },
  {
   "cell_type": "code",
   "execution_count": null,
   "id": "a581232a",
   "metadata": {},
   "outputs": [],
   "source": [
    "# Define colors for the data series and error bars\n",
    "excess_pb210_color = 'black'\n",
    "excess_pb210_error_color = mcolors.to_rgba(excess_pb210_color, alpha=0.3)\n",
    "supported_activity_color = 'grey'\n",
    "supported_activity_error_color = mcolors.to_rgba(supported_activity_color, alpha=0.3)\n",
    "\n",
    "# Ask for the folder to save the plot PDF and create a filename\n",
    "save_location = input(\"Enter the full path where you want to save the plot PDF (e.g., /path/to/your/directory): \")\n",
    "plot_filename = f\"{core_name}_Age_Model.pdf\"\n",
    "save_path = save_location.rstrip('/') + \"/\" + plot_filename"
   ]
  },
  {
   "cell_type": "code",
   "execution_count": null,
   "id": "0725028d",
   "metadata": {},
   "outputs": [],
   "source": [
    "plt.figure(figsize=(3, 5))\n",
    "plt.errorbar(\n",
    "    data['Pb-210 activity (Bq/g)'], data['Center point of interval'], \n",
    "    xerr=data['Pb-210 activity Uncertainty (Bq-g)'], fmt='-', color=excess_pb210_color, \n",
    "    label='Pb-210 activity (Bq/unit)', capsize=5, linewidth=1, \n",
    "    ecolor=excess_pb210_error_color\n",
    ")\n",
    "plt.xscale('log')\n",
    "plt.xlim(0.01, 10)\n",
    "# Highlight intervals with missing radioisotopes using brown spans\n",
    "for y in missing_depths:\n",
    "    plt.axhspan(y - 0.5, y + 0.5, alpha=0.5, color='brown', \n",
    "                label='Undetectable radioisotope' if y == missing_depths[0] else None)\n",
    "\n",
    "plt.title(f\"{core_name} 210 Pb Uncorrected Activity\", fontsize=18)\n",
    "plt.xlabel(\"Bq/g\", fontsize=14)\n",
    "plt.ylabel(\"Depth (cm)\", fontsize=14)\n",
    "plt.gca().invert_yaxis()  # Show depth from surface (invert y-axis)\n",
    "plt.grid(True, which='both', linestyle='-', linewidth=0.5, color='lightgray')\n",
    "plt.legend(loc='upper center', bbox_to_anchor=(0.5, -0.1), ncol=1)\n",
    "plt.tight_layout()\n",
    "plt.savefig(save_path, format='pdf', bbox_inches='tight')\n",
    "plt.show()\n"
   ]
  },
  {
   "cell_type": "code",
   "execution_count": null,
   "id": "b4ae8d39",
   "metadata": {},
   "outputs": [],
   "source": [
    "plt.figure(figsize=(5, 10))\n",
    "\n",
    "# Plot Excess Pb-210 (Bq/g) with error bars\n",
    "plt.errorbar(\n",
    "    data['Excess Pb-210 (Bq/g)'], data['Center point of interval'], \n",
    "    xerr=data['Pb-210 activity Uncertainty (Bq-g)'], fmt='-', color=excess_pb210_color, \n",
    "    label='Excess Pb-210', capsize=5, linewidth=1, \n",
    "    ecolor=excess_pb210_error_color\n",
    ")\n",
    "\n",
    "# Plot Averaged supported activity with error bars\n",
    "plt.errorbar(\n",
    "    data['Averaged supported activity of Bi-214 and Pb-214 (Bq/g)'], \n",
    "    data['Center point of interval'], \n",
    "    xerr=data['Background activity uncertainty (Bq/g)'], fmt='-', \n",
    "    color=supported_activity_color, label='Background Activity', \n",
    "    capsize=5, linewidth=1, ecolor=supported_activity_error_color\n",
    ")\n",
    "plt.xscale('log')\n",
    "plt.xlim(0.01, 10)\n",
    "\n",
    "# Highlight missing intervals with brown spans\n",
    "for y in missing_depths:\n",
    "    plt.axhspan(y - 0.5, y + 0.5, alpha=0.5, color='brown', \n",
    "                label='Undetectable radioisotope' if y == missing_depths[0] else None)\n",
    "\n",
    "# Annotate the selected depths with \"calendar years pre year of core\"\n",
    "for i, depth in enumerate(data['Center point of interval']):\n",
    "    if depth in depths_to_label:\n",
    "        year_value = data['calendar years pre year of core'].iloc[i]\n",
    "        if not pd.isna(year_value):\n",
    "            plt.text(\n",
    "                data['Excess Pb-210 (Bq/g)'].iloc[i] + 0.05, depth,\n",
    "                f'{int(year_value)}', fontsize=14, color='black', verticalalignment='center'\n",
    "            )\n",
    "\n",
    "plt.title(f\"{core_name} Age Model\", fontsize=18)\n",
    "plt.xlabel(\"Bq/unit\", fontsize=14)\n",
    "plt.ylabel(\"Depth (cm)\", fontsize=14)\n",
    "plt.gca().invert_yaxis()  # Invert y-axis for depth from surface\n",
    "plt.grid(True, which='both', linestyle='-', linewidth=0.5, color='lightgray')\n",
    "plt.legend(loc='upper center', bbox_to_anchor=(0.5, -0.1), ncol=1)\n",
    "plt.tight_layout()\n",
    "plt.savefig(save_path, format='pdf', bbox_inches='tight')\n",
    "plt.show()\n"
   ]
  },
  {
   "cell_type": "markdown",
   "id": "b281d3c7",
   "metadata": {},
   "source": [
    "# Well done!\n",
    "\n",
    "#### When you've finished, go to Cell > All Output > Clear to be ready for the next user of this script."
   ]
  }
 ],
 "metadata": {
  "kernelspec": {
   "display_name": "Python 3 (ipykernel)",
   "language": "python",
   "name": "python3"
  },
  "language_info": {
   "codemirror_mode": {
    "name": "ipython",
    "version": 3
   },
   "file_extension": ".py",
   "mimetype": "text/x-python",
   "name": "python",
   "nbconvert_exporter": "python",
   "pygments_lexer": "ipython3",
   "version": "3.11.5"
  }
 },
 "nbformat": 4,
 "nbformat_minor": 5
}
